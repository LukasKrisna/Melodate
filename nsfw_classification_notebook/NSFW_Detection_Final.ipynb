{
  "nbformat": 4,
  "nbformat_minor": 0,
  "metadata": {
    "colab": {
      "provenance": [],
      "gpuType": "T4"
    },
    "kernelspec": {
      "name": "python3",
      "display_name": "Python 3"
    },
    "language_info": {
      "name": "python"
    },
    "accelerator": "GPU"
  },
  "cells": [
    {
      "cell_type": "code",
      "source": [
        "from tensorflow.keras import Sequential\n",
        "from tensorflow.keras.layers import GlobalAveragePooling2D, Dense, Dropout, BatchNormalization, Input\n",
        "from tensorflow.keras.applications import MobileNetV2\n",
        "from tensorflow.keras.optimizers import Adam\n",
        "from tensorflow.keras import regularizers\n",
        "from tensorflow.keras.metrics import Recall, AUC\n",
        "from tensorflow.keras.callbacks import LearningRateScheduler, EarlyStopping\n",
        "from tensorflow.keras.models import load_model\n",
        "import tensorflow as tf\n",
        "import os"
      ],
      "metadata": {
        "id": "LfiIN3VQ-zO-"
      },
      "execution_count": null,
      "outputs": []
    },
    {
      "cell_type": "code",
      "execution_count": null,
      "metadata": {
        "colab": {
          "base_uri": "https://localhost:8080/"
        },
        "id": "2dmvUyTb4xn0",
        "outputId": "17a4229d-5295-4f02-e6b0-fd25db713828"
      },
      "outputs": [
        {
          "output_type": "stream",
          "name": "stdout",
          "text": [
            "Drive already mounted at /content/drive; to attempt to forcibly remount, call drive.mount(\"/content/drive\", force_remount=True).\n"
          ]
        }
      ],
      "source": [
        "from google.colab import drive\n",
        "import os\n",
        "\n",
        "drive.mount('/content/drive')\n",
        "zip_path = '/content/drive/My Drive/raw_data2.zip'\n",
        "extract_path = '/content/raw_data2'\n",
        "\n",
        "os.makedirs(extract_path, exist_ok=True)"
      ]
    },
    {
      "cell_type": "code",
      "source": [
        "import zipfile\n",
        "\n",
        "with zipfile.ZipFile(zip_path, 'r') as zip_ref:\n",
        "    zip_ref.extractall(extract_path)\n",
        "\n",
        "print(f\"Extracted files to: {extract_path}\")\n",
        "for root, dirs, files in os.walk(extract_path):\n",
        "    print(f\"Directory: {root}, Subdirectories: {dirs}, Files: {len(files)}\")"
      ],
      "metadata": {
        "colab": {
          "base_uri": "https://localhost:8080/"
        },
        "id": "N1Uk4NPn49-_",
        "outputId": "69f357c2-94f4-4350-d641-f27889704358"
      },
      "execution_count": null,
      "outputs": [
        {
          "output_type": "stream",
          "name": "stdout",
          "text": [
            "Extracted files to: /content/raw_data2\n",
            "Directory: /content/raw_data2, Subdirectories: ['raw_data'], Files: 0\n",
            "Directory: /content/raw_data2/raw_data, Subdirectories: ['nsfw', 'no_nsfw'], Files: 0\n",
            "Directory: /content/raw_data2/raw_data/nsfw, Subdirectories: [], Files: 5420\n",
            "Directory: /content/raw_data2/raw_data/no_nsfw, Subdirectories: [], Files: 5550\n"
          ]
        }
      ]
    },
    {
      "cell_type": "code",
      "source": [
        "data_dir = os.path.join(extract_path, \"raw_data\")\n",
        "\n",
        "# Parameters\n",
        "img_height = 224\n",
        "img_width = 224\n",
        "batch_size = 32\n",
        "\n",
        "# Load the dataset\n",
        "train_ds = tf.keras.utils.image_dataset_from_directory(\n",
        "    data_dir,\n",
        "    validation_split=0.2,\n",
        "    subset=\"training\",\n",
        "    seed=42,\n",
        "    image_size=(img_height, img_width),\n",
        "    batch_size=batch_size\n",
        ")\n",
        "\n",
        "val_ds = tf.keras.utils.image_dataset_from_directory(\n",
        "    data_dir,\n",
        "    validation_split=0.2,\n",
        "    subset=\"validation\",\n",
        "    seed=42,\n",
        "    image_size=(img_height, img_width),\n",
        "    batch_size=batch_size\n",
        ")\n",
        "\n",
        "# Check class names\n",
        "print(f\"Class names: {train_ds.class_names}\")"
      ],
      "metadata": {
        "colab": {
          "base_uri": "https://localhost:8080/",
          "height": 222
        },
        "id": "n59PSSpz5Kn0",
        "outputId": "b624df57-2913-4b7f-c2c0-73ca8698328d"
      },
      "execution_count": null,
      "outputs": [
        {
          "output_type": "error",
          "ename": "NameError",
          "evalue": "name 'extract_path' is not defined",
          "traceback": [
            "\u001b[0;31m---------------------------------------------------------------------------\u001b[0m",
            "\u001b[0;31mNameError\u001b[0m                                 Traceback (most recent call last)",
            "\u001b[0;32m<ipython-input-7-b0a247f9f4c0>\u001b[0m in \u001b[0;36m<cell line: 1>\u001b[0;34m()\u001b[0m\n\u001b[0;32m----> 1\u001b[0;31m \u001b[0mdata_dir\u001b[0m \u001b[0;34m=\u001b[0m \u001b[0mos\u001b[0m\u001b[0;34m.\u001b[0m\u001b[0mpath\u001b[0m\u001b[0;34m.\u001b[0m\u001b[0mjoin\u001b[0m\u001b[0;34m(\u001b[0m\u001b[0mextract_path\u001b[0m\u001b[0;34m,\u001b[0m \u001b[0;34m\"raw_data\"\u001b[0m\u001b[0;34m)\u001b[0m\u001b[0;34m\u001b[0m\u001b[0;34m\u001b[0m\u001b[0m\n\u001b[0m\u001b[1;32m      2\u001b[0m \u001b[0;34m\u001b[0m\u001b[0m\n\u001b[1;32m      3\u001b[0m \u001b[0;31m# Parameters\u001b[0m\u001b[0;34m\u001b[0m\u001b[0;34m\u001b[0m\u001b[0m\n\u001b[1;32m      4\u001b[0m \u001b[0mimg_height\u001b[0m \u001b[0;34m=\u001b[0m \u001b[0;36m224\u001b[0m\u001b[0;34m\u001b[0m\u001b[0;34m\u001b[0m\u001b[0m\n\u001b[1;32m      5\u001b[0m \u001b[0mimg_width\u001b[0m \u001b[0;34m=\u001b[0m \u001b[0;36m224\u001b[0m\u001b[0;34m\u001b[0m\u001b[0;34m\u001b[0m\u001b[0m\n",
            "\u001b[0;31mNameError\u001b[0m: name 'extract_path' is not defined"
          ]
        }
      ]
    },
    {
      "cell_type": "code",
      "source": [
        "os.makedirs('./cache_dir', exist_ok=True)\n",
        "\n",
        "AUTOTUNE = tf.data.AUTOTUNE\n",
        "\n",
        "train_ds = train_ds.cache('./cache_dir/train_cache.tf-data').prefetch(buffer_size=AUTOTUNE)\n",
        "val_ds = val_ds.cache('./cache_dir/val_cache.tf-data').prefetch(buffer_size=AUTOTUNE)"
      ],
      "metadata": {
        "id": "IciQM1jr5Xy-"
      },
      "execution_count": null,
      "outputs": []
    },
    {
      "cell_type": "code",
      "source": [
        "# Load MobileNetV2 base model\n",
        "base_model = MobileNetV2(input_shape=(img_height, img_width, 3),\n",
        "                         include_top=False,\n",
        "                         weights='imagenet')\n",
        "\n",
        "# Freeze the base model (we will fine-tune later)\n",
        "base_model.trainable = False\n",
        "\n",
        "# Define data augmentation for the training set\n",
        "data_augmentation = Sequential([\n",
        "    tf.keras.layers.RandomZoom(0.1, 0.1),\n",
        "    tf.keras.layers.RandomContrast(0.25)\n",
        "])\n",
        "\n",
        "# Define the full model\n",
        "model = Sequential([\n",
        "    Input(shape=(img_height, img_width, 3)),\n",
        "    data_augmentation,\n",
        "    base_model,\n",
        "    GlobalAveragePooling2D(),\n",
        "    Dense(128, activation='relu', kernel_regularizer=regularizers.l2(0.01)),\n",
        "    BatchNormalization(),\n",
        "    Dropout(0.3),\n",
        "    Dense(1, activation='sigmoid')\n",
        "])\n"
      ],
      "metadata": {
        "id": "aom8mSH95g1Z"
      },
      "execution_count": null,
      "outputs": []
    },
    {
      "cell_type": "code",
      "source": [
        "# Compile the model\n",
        "model.compile(optimizer=Adam(),\n",
        "              loss='binary_crossentropy',\n",
        "              metrics=[Recall(name='recall'), 'accuracy', AUC(name='auc')])"
      ],
      "metadata": {
        "id": "lqSMLHe5BqiH"
      },
      "execution_count": null,
      "outputs": []
    },
    {
      "cell_type": "code",
      "source": [
        "# Learning rate scheduler\n",
        "def lr_schedule(epoch):\n",
        "    initial_lr = 1e-3\n",
        "    drop_rate = 0.5\n",
        "    epoch_drop = 5.0\n",
        "    lr = initial_lr * (drop_rate ** (epoch // epoch_drop))\n",
        "    return lr\n",
        "\n",
        "lr_callback = LearningRateScheduler(lr_schedule)\n",
        "\n",
        "# Early stopping to monitor recall and stop training if it stops improving\n",
        "early_stopping = EarlyStopping(monitor='val_loss',\n",
        "                               patience=3,\n",
        "                               restore_best_weights=True)"
      ],
      "metadata": {
        "id": "SHfMxqfD7btS"
      },
      "execution_count": null,
      "outputs": []
    },
    {
      "cell_type": "code",
      "source": [
        "# Train the model for initial training\n",
        "model.fit(train_ds,\n",
        "          validation_data=val_ds,\n",
        "          epochs=10,\n",
        "          callbacks=[lr_callback, early_stopping])"
      ],
      "metadata": {
        "colab": {
          "base_uri": "https://localhost:8080/"
        },
        "id": "zsIDG-ihB1I2",
        "outputId": "b44118da-87b9-4be5-c163-6b840cf5b5db"
      },
      "execution_count": null,
      "outputs": [
        {
          "output_type": "stream",
          "name": "stdout",
          "text": [
            "Epoch 1/10\n",
            "\u001b[1m275/275\u001b[0m \u001b[32m━━━━━━━━━━━━━━━━━━━━\u001b[0m\u001b[37m\u001b[0m \u001b[1m65s\u001b[0m 208ms/step - accuracy: 0.8208 - auc: 0.8920 - loss: 1.5416 - recall: 0.8244 - val_accuracy: 0.8268 - val_auc: 0.9107 - val_loss: 0.6367 - val_recall: 0.7985 - learning_rate: 0.0010\n",
            "Epoch 2/10\n",
            "\u001b[1m275/275\u001b[0m \u001b[32m━━━━━━━━━━━━━━━━━━━━\u001b[0m\u001b[37m\u001b[0m \u001b[1m84s\u001b[0m 216ms/step - accuracy: 0.8603 - auc: 0.9335 - loss: 0.5330 - recall: 0.8661 - val_accuracy: 0.8127 - val_auc: 0.9236 - val_loss: 0.5290 - val_recall: 0.9347 - learning_rate: 0.0010\n",
            "Epoch 3/10\n",
            "\u001b[1m275/275\u001b[0m \u001b[32m━━━━━━━━━━━━━━━━━━━━\u001b[0m\u001b[37m\u001b[0m \u001b[1m85s\u001b[0m 228ms/step - accuracy: 0.8596 - auc: 0.9323 - loss: 0.4363 - recall: 0.8638 - val_accuracy: 0.8273 - val_auc: 0.9300 - val_loss: 0.4664 - val_recall: 0.7187 - learning_rate: 0.0010\n",
            "Epoch 4/10\n",
            "\u001b[1m275/275\u001b[0m \u001b[32m━━━━━━━━━━━━━━━━━━━━\u001b[0m\u001b[37m\u001b[0m \u001b[1m60s\u001b[0m 220ms/step - accuracy: 0.8592 - auc: 0.9315 - loss: 0.4071 - recall: 0.8532 - val_accuracy: 0.8355 - val_auc: 0.9206 - val_loss: 0.4508 - val_recall: 0.7541 - learning_rate: 0.0010\n",
            "Epoch 5/10\n",
            "\u001b[1m275/275\u001b[0m \u001b[32m━━━━━━━━━━━━━━━━━━━━\u001b[0m\u001b[37m\u001b[0m \u001b[1m60s\u001b[0m 217ms/step - accuracy: 0.8636 - auc: 0.9369 - loss: 0.3840 - recall: 0.8670 - val_accuracy: 0.7926 - val_auc: 0.9127 - val_loss: 0.5117 - val_recall: 0.6615 - learning_rate: 0.0010\n",
            "Epoch 6/10\n",
            "\u001b[1m275/275\u001b[0m \u001b[32m━━━━━━━━━━━━━━━━━━━━\u001b[0m\u001b[37m\u001b[0m \u001b[1m82s\u001b[0m 218ms/step - accuracy: 0.8653 - auc: 0.9386 - loss: 0.3672 - recall: 0.8686 - val_accuracy: 0.8605 - val_auc: 0.9372 - val_loss: 0.3677 - val_recall: 0.8802 - learning_rate: 5.0000e-04\n",
            "Epoch 7/10\n",
            "\u001b[1m275/275\u001b[0m \u001b[32m━━━━━━━━━━━━━━━━━━━━\u001b[0m\u001b[37m\u001b[0m \u001b[1m60s\u001b[0m 219ms/step - accuracy: 0.8732 - auc: 0.9416 - loss: 0.3503 - recall: 0.8755 - val_accuracy: 0.8587 - val_auc: 0.9376 - val_loss: 0.3576 - val_recall: 0.8711 - learning_rate: 5.0000e-04\n",
            "Epoch 8/10\n",
            "\u001b[1m275/275\u001b[0m \u001b[32m━━━━━━━━━━━━━━━━━━━━\u001b[0m\u001b[37m\u001b[0m \u001b[1m61s\u001b[0m 222ms/step - accuracy: 0.8764 - auc: 0.9439 - loss: 0.3391 - recall: 0.8736 - val_accuracy: 0.8537 - val_auc: 0.9363 - val_loss: 0.3611 - val_recall: 0.8793 - learning_rate: 5.0000e-04\n",
            "Epoch 9/10\n",
            "\u001b[1m275/275\u001b[0m \u001b[32m━━━━━━━━━━━━━━━━━━━━\u001b[0m\u001b[37m\u001b[0m \u001b[1m81s\u001b[0m 220ms/step - accuracy: 0.8755 - auc: 0.9441 - loss: 0.3370 - recall: 0.8765 - val_accuracy: 0.8551 - val_auc: 0.9342 - val_loss: 0.3750 - val_recall: 0.9065 - learning_rate: 5.0000e-04\n",
            "Epoch 10/10\n",
            "\u001b[1m275/275\u001b[0m \u001b[32m━━━━━━━━━━━━━━━━━━━━\u001b[0m\u001b[37m\u001b[0m \u001b[1m60s\u001b[0m 217ms/step - accuracy: 0.8786 - auc: 0.9433 - loss: 0.3400 - recall: 0.8787 - val_accuracy: 0.8432 - val_auc: 0.9356 - val_loss: 0.3796 - val_recall: 0.7740 - learning_rate: 5.0000e-04\n"
          ]
        },
        {
          "output_type": "execute_result",
          "data": {
            "text/plain": [
              "<keras.src.callbacks.history.History at 0x7b40452313c0>"
            ]
          },
          "metadata": {},
          "execution_count": 72
        }
      ]
    },
    {
      "cell_type": "code",
      "source": [
        "model.summary()"
      ],
      "metadata": {
        "colab": {
          "base_uri": "https://localhost:8080/",
          "height": 417
        },
        "id": "-R_4Jo6_SGyB",
        "outputId": "2f95c2e4-d943-4154-f4b4-86fd326ac8ad"
      },
      "execution_count": null,
      "outputs": [
        {
          "output_type": "display_data",
          "data": {
            "text/plain": [
              "\u001b[1mModel: \"sequential_13\"\u001b[0m\n"
            ],
            "text/html": [
              "<pre style=\"white-space:pre;overflow-x:auto;line-height:normal;font-family:Menlo,'DejaVu Sans Mono',consolas,'Courier New',monospace\"><span style=\"font-weight: bold\">Model: \"sequential_13\"</span>\n",
              "</pre>\n"
            ]
          },
          "metadata": {}
        },
        {
          "output_type": "display_data",
          "data": {
            "text/plain": [
              "┏━━━━━━━━━━━━━━━━━━━━━━━━━━━━━━━━━━━━━━┳━━━━━━━━━━━━━━━━━━━━━━━━━━━━━┳━━━━━━━━━━━━━━━━━┓\n",
              "┃\u001b[1m \u001b[0m\u001b[1mLayer (type)                        \u001b[0m\u001b[1m \u001b[0m┃\u001b[1m \u001b[0m\u001b[1mOutput Shape               \u001b[0m\u001b[1m \u001b[0m┃\u001b[1m \u001b[0m\u001b[1m        Param #\u001b[0m\u001b[1m \u001b[0m┃\n",
              "┡━━━━━━━━━━━━━━━━━━━━━━━━━━━━━━━━━━━━━━╇━━━━━━━━━━━━━━━━━━━━━━━━━━━━━╇━━━━━━━━━━━━━━━━━┩\n",
              "│ sequential_12 (\u001b[38;5;33mSequential\u001b[0m)           │ (\u001b[38;5;45mNone\u001b[0m, \u001b[38;5;34m224\u001b[0m, \u001b[38;5;34m224\u001b[0m, \u001b[38;5;34m3\u001b[0m)         │               \u001b[38;5;34m0\u001b[0m │\n",
              "├──────────────────────────────────────┼─────────────────────────────┼─────────────────┤\n",
              "│ mobilenetv2_1.00_224 (\u001b[38;5;33mFunctional\u001b[0m)    │ (\u001b[38;5;45mNone\u001b[0m, \u001b[38;5;34m7\u001b[0m, \u001b[38;5;34m7\u001b[0m, \u001b[38;5;34m1280\u001b[0m)          │       \u001b[38;5;34m2,257,984\u001b[0m │\n",
              "├──────────────────────────────────────┼─────────────────────────────┼─────────────────┤\n",
              "│ global_average_pooling2d_6           │ (\u001b[38;5;45mNone\u001b[0m, \u001b[38;5;34m1280\u001b[0m)                │               \u001b[38;5;34m0\u001b[0m │\n",
              "│ (\u001b[38;5;33mGlobalAveragePooling2D\u001b[0m)             │                             │                 │\n",
              "├──────────────────────────────────────┼─────────────────────────────┼─────────────────┤\n",
              "│ dense_12 (\u001b[38;5;33mDense\u001b[0m)                     │ (\u001b[38;5;45mNone\u001b[0m, \u001b[38;5;34m128\u001b[0m)                 │         \u001b[38;5;34m163,968\u001b[0m │\n",
              "├──────────────────────────────────────┼─────────────────────────────┼─────────────────┤\n",
              "│ batch_normalization_6                │ (\u001b[38;5;45mNone\u001b[0m, \u001b[38;5;34m128\u001b[0m)                 │             \u001b[38;5;34m512\u001b[0m │\n",
              "│ (\u001b[38;5;33mBatchNormalization\u001b[0m)                 │                             │                 │\n",
              "├──────────────────────────────────────┼─────────────────────────────┼─────────────────┤\n",
              "│ dropout_6 (\u001b[38;5;33mDropout\u001b[0m)                  │ (\u001b[38;5;45mNone\u001b[0m, \u001b[38;5;34m128\u001b[0m)                 │               \u001b[38;5;34m0\u001b[0m │\n",
              "├──────────────────────────────────────┼─────────────────────────────┼─────────────────┤\n",
              "│ dense_13 (\u001b[38;5;33mDense\u001b[0m)                     │ (\u001b[38;5;45mNone\u001b[0m, \u001b[38;5;34m1\u001b[0m)                   │             \u001b[38;5;34m129\u001b[0m │\n",
              "└──────────────────────────────────────┴─────────────────────────────┴─────────────────┘\n"
            ],
            "text/html": [
              "<pre style=\"white-space:pre;overflow-x:auto;line-height:normal;font-family:Menlo,'DejaVu Sans Mono',consolas,'Courier New',monospace\">┏━━━━━━━━━━━━━━━━━━━━━━━━━━━━━━━━━━━━━━┳━━━━━━━━━━━━━━━━━━━━━━━━━━━━━┳━━━━━━━━━━━━━━━━━┓\n",
              "┃<span style=\"font-weight: bold\"> Layer (type)                         </span>┃<span style=\"font-weight: bold\"> Output Shape                </span>┃<span style=\"font-weight: bold\">         Param # </span>┃\n",
              "┡━━━━━━━━━━━━━━━━━━━━━━━━━━━━━━━━━━━━━━╇━━━━━━━━━━━━━━━━━━━━━━━━━━━━━╇━━━━━━━━━━━━━━━━━┩\n",
              "│ sequential_12 (<span style=\"color: #0087ff; text-decoration-color: #0087ff\">Sequential</span>)           │ (<span style=\"color: #00d7ff; text-decoration-color: #00d7ff\">None</span>, <span style=\"color: #00af00; text-decoration-color: #00af00\">224</span>, <span style=\"color: #00af00; text-decoration-color: #00af00\">224</span>, <span style=\"color: #00af00; text-decoration-color: #00af00\">3</span>)         │               <span style=\"color: #00af00; text-decoration-color: #00af00\">0</span> │\n",
              "├──────────────────────────────────────┼─────────────────────────────┼─────────────────┤\n",
              "│ mobilenetv2_1.00_224 (<span style=\"color: #0087ff; text-decoration-color: #0087ff\">Functional</span>)    │ (<span style=\"color: #00d7ff; text-decoration-color: #00d7ff\">None</span>, <span style=\"color: #00af00; text-decoration-color: #00af00\">7</span>, <span style=\"color: #00af00; text-decoration-color: #00af00\">7</span>, <span style=\"color: #00af00; text-decoration-color: #00af00\">1280</span>)          │       <span style=\"color: #00af00; text-decoration-color: #00af00\">2,257,984</span> │\n",
              "├──────────────────────────────────────┼─────────────────────────────┼─────────────────┤\n",
              "│ global_average_pooling2d_6           │ (<span style=\"color: #00d7ff; text-decoration-color: #00d7ff\">None</span>, <span style=\"color: #00af00; text-decoration-color: #00af00\">1280</span>)                │               <span style=\"color: #00af00; text-decoration-color: #00af00\">0</span> │\n",
              "│ (<span style=\"color: #0087ff; text-decoration-color: #0087ff\">GlobalAveragePooling2D</span>)             │                             │                 │\n",
              "├──────────────────────────────────────┼─────────────────────────────┼─────────────────┤\n",
              "│ dense_12 (<span style=\"color: #0087ff; text-decoration-color: #0087ff\">Dense</span>)                     │ (<span style=\"color: #00d7ff; text-decoration-color: #00d7ff\">None</span>, <span style=\"color: #00af00; text-decoration-color: #00af00\">128</span>)                 │         <span style=\"color: #00af00; text-decoration-color: #00af00\">163,968</span> │\n",
              "├──────────────────────────────────────┼─────────────────────────────┼─────────────────┤\n",
              "│ batch_normalization_6                │ (<span style=\"color: #00d7ff; text-decoration-color: #00d7ff\">None</span>, <span style=\"color: #00af00; text-decoration-color: #00af00\">128</span>)                 │             <span style=\"color: #00af00; text-decoration-color: #00af00\">512</span> │\n",
              "│ (<span style=\"color: #0087ff; text-decoration-color: #0087ff\">BatchNormalization</span>)                 │                             │                 │\n",
              "├──────────────────────────────────────┼─────────────────────────────┼─────────────────┤\n",
              "│ dropout_6 (<span style=\"color: #0087ff; text-decoration-color: #0087ff\">Dropout</span>)                  │ (<span style=\"color: #00d7ff; text-decoration-color: #00d7ff\">None</span>, <span style=\"color: #00af00; text-decoration-color: #00af00\">128</span>)                 │               <span style=\"color: #00af00; text-decoration-color: #00af00\">0</span> │\n",
              "├──────────────────────────────────────┼─────────────────────────────┼─────────────────┤\n",
              "│ dense_13 (<span style=\"color: #0087ff; text-decoration-color: #0087ff\">Dense</span>)                     │ (<span style=\"color: #00d7ff; text-decoration-color: #00d7ff\">None</span>, <span style=\"color: #00af00; text-decoration-color: #00af00\">1</span>)                   │             <span style=\"color: #00af00; text-decoration-color: #00af00\">129</span> │\n",
              "└──────────────────────────────────────┴─────────────────────────────┴─────────────────┘\n",
              "</pre>\n"
            ]
          },
          "metadata": {}
        },
        {
          "output_type": "display_data",
          "data": {
            "text/plain": [
              "\u001b[1m Total params: \u001b[0m\u001b[38;5;34m2,751,301\u001b[0m (10.50 MB)\n"
            ],
            "text/html": [
              "<pre style=\"white-space:pre;overflow-x:auto;line-height:normal;font-family:Menlo,'DejaVu Sans Mono',consolas,'Courier New',monospace\"><span style=\"font-weight: bold\"> Total params: </span><span style=\"color: #00af00; text-decoration-color: #00af00\">2,751,301</span> (10.50 MB)\n",
              "</pre>\n"
            ]
          },
          "metadata": {}
        },
        {
          "output_type": "display_data",
          "data": {
            "text/plain": [
              "\u001b[1m Trainable params: \u001b[0m\u001b[38;5;34m164,353\u001b[0m (642.00 KB)\n"
            ],
            "text/html": [
              "<pre style=\"white-space:pre;overflow-x:auto;line-height:normal;font-family:Menlo,'DejaVu Sans Mono',consolas,'Courier New',monospace\"><span style=\"font-weight: bold\"> Trainable params: </span><span style=\"color: #00af00; text-decoration-color: #00af00\">164,353</span> (642.00 KB)\n",
              "</pre>\n"
            ]
          },
          "metadata": {}
        },
        {
          "output_type": "display_data",
          "data": {
            "text/plain": [
              "\u001b[1m Non-trainable params: \u001b[0m\u001b[38;5;34m2,258,240\u001b[0m (8.61 MB)\n"
            ],
            "text/html": [
              "<pre style=\"white-space:pre;overflow-x:auto;line-height:normal;font-family:Menlo,'DejaVu Sans Mono',consolas,'Courier New',monospace\"><span style=\"font-weight: bold\"> Non-trainable params: </span><span style=\"color: #00af00; text-decoration-color: #00af00\">2,258,240</span> (8.61 MB)\n",
              "</pre>\n"
            ]
          },
          "metadata": {}
        },
        {
          "output_type": "display_data",
          "data": {
            "text/plain": [
              "\u001b[1m Optimizer params: \u001b[0m\u001b[38;5;34m328,708\u001b[0m (1.25 MB)\n"
            ],
            "text/html": [
              "<pre style=\"white-space:pre;overflow-x:auto;line-height:normal;font-family:Menlo,'DejaVu Sans Mono',consolas,'Courier New',monospace\"><span style=\"font-weight: bold\"> Optimizer params: </span><span style=\"color: #00af00; text-decoration-color: #00af00\">328,708</span> (1.25 MB)\n",
              "</pre>\n"
            ]
          },
          "metadata": {}
        }
      ]
    },
    {
      "cell_type": "code",
      "source": [
        "model.save('model_initial.h5', save_format='h5')"
      ],
      "metadata": {
        "colab": {
          "base_uri": "https://localhost:8080/"
        },
        "id": "-pGme-TdB36Z",
        "outputId": "d5daa61d-291d-417d-e658-54f9133c35bc"
      },
      "execution_count": null,
      "outputs": [
        {
          "output_type": "stream",
          "name": "stderr",
          "text": [
            "WARNING:absl:The `save_format` argument is deprecated in Keras 3. We recommend removing this argument as it can be inferred from the file path. Received: save_format=h5\n",
            "WARNING:absl:You are saving your model as an HDF5 file via `model.save()` or `keras.saving.save_model(model)`. This file format is considered legacy. We recommend using instead the native Keras format, e.g. `model.save('my_model.keras')` or `keras.saving.save_model(model, 'my_model.keras')`. \n"
          ]
        }
      ]
    },
    {
      "cell_type": "code",
      "source": [
        "from tensorflow.keras.models import load_model\n",
        "model = load_model('model_initial.h5')\n",
        "\n",
        "# Unfreeze some layers for fine-tuning\n",
        "base_model = model.get_layer('mobilenetv2_1.00_224')\n",
        "base_model.trainable = True\n",
        "\n",
        "fine_tune_at = 90  # Unfreeze from layer 100 onward\n",
        "for layer in base_model.layers[:fine_tune_at]:\n",
        "    layer.trainable = False\n",
        "\n",
        "\n",
        "\n",
        "optimizer = Adam(learning_rate=1e-4, weight_decay=1e-5)\n",
        "class_weights = {0: 1.0, 1: 2.0}\n",
        "model.compile(optimizer=optimizer,\n",
        "              loss='binary_crossentropy',\n",
        "              metrics=[Recall(name='recall'), 'accuracy', AUC(name='auc')])"
      ],
      "metadata": {
        "colab": {
          "base_uri": "https://localhost:8080/"
        },
        "id": "LLJ48j657qLp",
        "outputId": "eb48d25b-c6f4-4c89-a2fa-67426cb8cf53"
      },
      "execution_count": null,
      "outputs": [
        {
          "output_type": "stream",
          "name": "stderr",
          "text": [
            "WARNING:absl:Compiled the loaded model, but the compiled metrics have yet to be built. `model.compile_metrics` will be empty until you train or evaluate the model.\n"
          ]
        }
      ]
    },
    {
      "cell_type": "code",
      "source": [
        "def lr_schedule(epoch, initial_lr=1e-4, total_epochs=50):\n",
        "    # Cosine Annealing\n",
        "    lr = initial_lr * (1 + np.cos(np.pi * epoch / total_epochs)) / 2\n",
        "    return lr"
      ],
      "metadata": {
        "id": "mwQWRImyfW4k"
      },
      "execution_count": null,
      "outputs": []
    },
    {
      "cell_type": "code",
      "source": [
        "# Early stopping for fine tuning\n",
        "early_stopping = EarlyStopping(monitor='val_loss',\n",
        "                               patience=5,\n",
        "                               restore_best_weights=True)"
      ],
      "metadata": {
        "id": "RxbjpVYSK1PR"
      },
      "execution_count": null,
      "outputs": []
    },
    {
      "cell_type": "code",
      "source": [
        "history = model.fit(train_ds,\n",
        "          validation_data=val_ds,\n",
        "          epochs=50,\n",
        "          class_weight=class_weights,\n",
        "          callbacks=[lr_callback, early_stopping])"
      ],
      "metadata": {
        "colab": {
          "base_uri": "https://localhost:8080/"
        },
        "id": "-JqQc_7B84Tu",
        "outputId": "eed3dc93-fecd-4c9f-ca83-cd95ba2bdedc"
      },
      "execution_count": null,
      "outputs": [
        {
          "output_type": "stream",
          "name": "stdout",
          "text": [
            "Epoch 1/50\n",
            "\u001b[1m275/275\u001b[0m \u001b[32m━━━━━━━━━━━━━━━━━━━━\u001b[0m\u001b[37m\u001b[0m \u001b[1m63s\u001b[0m 162ms/step - accuracy: 0.8666 - auc: 0.9402 - loss: 0.4857 - recall: 0.9021 - val_accuracy: 0.6659 - val_auc: 0.7726 - val_loss: 2.4641 - val_recall: 0.3421 - learning_rate: 0.0010\n",
            "Epoch 2/50\n",
            "\u001b[1m275/275\u001b[0m \u001b[32m━━━━━━━━━━━━━━━━━━━━\u001b[0m\u001b[37m\u001b[0m \u001b[1m57s\u001b[0m 205ms/step - accuracy: 0.9159 - auc: 0.9772 - loss: 0.2961 - recall: 0.9492 - val_accuracy: 0.6449 - val_auc: 0.8420 - val_loss: 1.7740 - val_recall: 1.0000 - learning_rate: 0.0010\n",
            "Epoch 3/50\n",
            "\u001b[1m275/275\u001b[0m \u001b[32m━━━━━━━━━━━━━━━━━━━━\u001b[0m\u001b[37m\u001b[0m \u001b[1m47s\u001b[0m 171ms/step - accuracy: 0.9318 - auc: 0.9825 - loss: 0.2538 - recall: 0.9558 - val_accuracy: 0.5132 - val_auc: 0.6076 - val_loss: 3.6131 - val_recall: 0.9991 - learning_rate: 0.0010\n",
            "Epoch 4/50\n",
            "\u001b[1m275/275\u001b[0m \u001b[32m━━━━━━━━━━━━━━━━━━━━\u001b[0m\u001b[37m\u001b[0m \u001b[1m48s\u001b[0m 175ms/step - accuracy: 0.9342 - auc: 0.9848 - loss: 0.2390 - recall: 0.9641 - val_accuracy: 0.8345 - val_auc: 0.9008 - val_loss: 0.7583 - val_recall: 0.8966 - learning_rate: 0.0010\n",
            "Epoch 5/50\n",
            "\u001b[1m275/275\u001b[0m \u001b[32m━━━━━━━━━━━━━━━━━━━━\u001b[0m\u001b[37m\u001b[0m \u001b[1m56s\u001b[0m 204ms/step - accuracy: 0.9395 - auc: 0.9877 - loss: 0.2123 - recall: 0.9632 - val_accuracy: 0.6386 - val_auc: 0.8607 - val_loss: 1.5071 - val_recall: 0.9882 - learning_rate: 0.0010\n",
            "Epoch 6/50\n",
            "\u001b[1m275/275\u001b[0m \u001b[32m━━━━━━━━━━━━━━━━━━━━\u001b[0m\u001b[37m\u001b[0m \u001b[1m93s\u001b[0m 243ms/step - accuracy: 0.9580 - auc: 0.9938 - loss: 0.1602 - recall: 0.9784 - val_accuracy: 0.5716 - val_auc: 0.9472 - val_loss: 1.1668 - val_recall: 0.9991 - learning_rate: 5.0000e-04\n",
            "Epoch 7/50\n",
            "\u001b[1m275/275\u001b[0m \u001b[32m━━━━━━━━━━━━━━━━━━━━\u001b[0m\u001b[37m\u001b[0m \u001b[1m60s\u001b[0m 217ms/step - accuracy: 0.9615 - auc: 0.9942 - loss: 0.1388 - recall: 0.9820 - val_accuracy: 0.7106 - val_auc: 0.9154 - val_loss: 0.6918 - val_recall: 0.9637 - learning_rate: 5.0000e-04\n",
            "Epoch 8/50\n",
            "\u001b[1m275/275\u001b[0m \u001b[32m━━━━━━━━━━━━━━━━━━━━\u001b[0m\u001b[37m\u001b[0m \u001b[1m67s\u001b[0m 245ms/step - accuracy: 0.9695 - auc: 0.9965 - loss: 0.1106 - recall: 0.9847 - val_accuracy: 0.5597 - val_auc: 0.7387 - val_loss: 2.1796 - val_recall: 0.9936 - learning_rate: 5.0000e-04\n",
            "Epoch 9/50\n",
            "\u001b[1m275/275\u001b[0m \u001b[32m━━━━━━━━━━━━━━━━━━━━\u001b[0m\u001b[37m\u001b[0m \u001b[1m73s\u001b[0m 211ms/step - accuracy: 0.9711 - auc: 0.9962 - loss: 0.1107 - recall: 0.9825 - val_accuracy: 0.7853 - val_auc: 0.9269 - val_loss: 0.7314 - val_recall: 0.9664 - learning_rate: 5.0000e-04\n",
            "Epoch 10/50\n",
            "\u001b[1m275/275\u001b[0m \u001b[32m━━━━━━━━━━━━━━━━━━━━\u001b[0m\u001b[37m\u001b[0m \u001b[1m93s\u001b[0m 252ms/step - accuracy: 0.9775 - auc: 0.9975 - loss: 0.0900 - recall: 0.9877 - val_accuracy: 0.8564 - val_auc: 0.9329 - val_loss: 0.6404 - val_recall: 0.9746 - learning_rate: 5.0000e-04\n",
            "Epoch 11/50\n",
            "\u001b[1m275/275\u001b[0m \u001b[32m━━━━━━━━━━━━━━━━━━━━\u001b[0m\u001b[37m\u001b[0m \u001b[1m52s\u001b[0m 187ms/step - accuracy: 0.9799 - auc: 0.9973 - loss: 0.0842 - recall: 0.9898 - val_accuracy: 0.7338 - val_auc: 0.9210 - val_loss: 0.9265 - val_recall: 0.9873 - learning_rate: 2.5000e-04\n",
            "Epoch 12/50\n",
            "\u001b[1m275/275\u001b[0m \u001b[32m━━━━━━━━━━━━━━━━━━━━\u001b[0m\u001b[37m\u001b[0m \u001b[1m49s\u001b[0m 177ms/step - accuracy: 0.9862 - auc: 0.9992 - loss: 0.0545 - recall: 0.9949 - val_accuracy: 0.8861 - val_auc: 0.9589 - val_loss: 0.3017 - val_recall: 0.9392 - learning_rate: 2.5000e-04\n",
            "Epoch 13/50\n",
            "\u001b[1m275/275\u001b[0m \u001b[32m━━━━━━━━━━━━━━━━━━━━\u001b[0m\u001b[37m\u001b[0m \u001b[1m47s\u001b[0m 171ms/step - accuracy: 0.9878 - auc: 0.9996 - loss: 0.0439 - recall: 0.9929 - val_accuracy: 0.9253 - val_auc: 0.9710 - val_loss: 0.2673 - val_recall: 0.9410 - learning_rate: 2.5000e-04\n",
            "Epoch 14/50\n",
            "\u001b[1m275/275\u001b[0m \u001b[32m━━━━━━━━━━━━━━━━━━━━\u001b[0m\u001b[37m\u001b[0m \u001b[1m50s\u001b[0m 181ms/step - accuracy: 0.9905 - auc: 0.9988 - loss: 0.0443 - recall: 0.9947 - val_accuracy: 0.9079 - val_auc: 0.9558 - val_loss: 0.4250 - val_recall: 0.8475 - learning_rate: 2.5000e-04\n",
            "Epoch 15/50\n",
            "\u001b[1m275/275\u001b[0m \u001b[32m━━━━━━━━━━━━━━━━━━━━\u001b[0m\u001b[37m\u001b[0m \u001b[1m82s\u001b[0m 180ms/step - accuracy: 0.9915 - auc: 0.9997 - loss: 0.0327 - recall: 0.9964 - val_accuracy: 0.9193 - val_auc: 0.9672 - val_loss: 0.2994 - val_recall: 0.9102 - learning_rate: 2.5000e-04\n",
            "Epoch 16/50\n",
            "\u001b[1m275/275\u001b[0m \u001b[32m━━━━━━━━━━━━━━━━━━━━\u001b[0m\u001b[37m\u001b[0m \u001b[1m84s\u001b[0m 188ms/step - accuracy: 0.9940 - auc: 0.9996 - loss: 0.0286 - recall: 0.9963 - val_accuracy: 0.9462 - val_auc: 0.9814 - val_loss: 0.1829 - val_recall: 0.9456 - learning_rate: 1.2500e-04\n",
            "Epoch 17/50\n",
            "\u001b[1m275/275\u001b[0m \u001b[32m━━━━━━━━━━━━━━━━━━━━\u001b[0m\u001b[37m\u001b[0m \u001b[1m52s\u001b[0m 187ms/step - accuracy: 0.9954 - auc: 0.9999 - loss: 0.0189 - recall: 0.9978 - val_accuracy: 0.9362 - val_auc: 0.9738 - val_loss: 0.2528 - val_recall: 0.9111 - learning_rate: 1.2500e-04\n",
            "Epoch 18/50\n",
            "\u001b[1m275/275\u001b[0m \u001b[32m━━━━━━━━━━━━━━━━━━━━\u001b[0m\u001b[37m\u001b[0m \u001b[1m52s\u001b[0m 190ms/step - accuracy: 0.9953 - auc: 0.9999 - loss: 0.0212 - recall: 0.9971 - val_accuracy: 0.9439 - val_auc: 0.9779 - val_loss: 0.2143 - val_recall: 0.9265 - learning_rate: 1.2500e-04\n",
            "Epoch 19/50\n",
            "\u001b[1m275/275\u001b[0m \u001b[32m━━━━━━━━━━━━━━━━━━━━\u001b[0m\u001b[37m\u001b[0m \u001b[1m53s\u001b[0m 194ms/step - accuracy: 0.9974 - auc: 1.0000 - loss: 0.0115 - recall: 0.9993 - val_accuracy: 0.9521 - val_auc: 0.9803 - val_loss: 0.1989 - val_recall: 0.9338 - learning_rate: 1.2500e-04\n",
            "Epoch 20/50\n",
            "\u001b[1m275/275\u001b[0m \u001b[32m━━━━━━━━━━━━━━━━━━━━\u001b[0m\u001b[37m\u001b[0m \u001b[1m83s\u001b[0m 196ms/step - accuracy: 0.9963 - auc: 0.9999 - loss: 0.0146 - recall: 0.9985 - val_accuracy: 0.9476 - val_auc: 0.9750 - val_loss: 0.2381 - val_recall: 0.9437 - learning_rate: 1.2500e-04\n",
            "Epoch 21/50\n",
            "\u001b[1m275/275\u001b[0m \u001b[32m━━━━━━━━━━━━━━━━━━━━\u001b[0m\u001b[37m\u001b[0m \u001b[1m84s\u001b[0m 204ms/step - accuracy: 0.9978 - auc: 1.0000 - loss: 0.0100 - recall: 0.9997 - val_accuracy: 0.9531 - val_auc: 0.9818 - val_loss: 0.1897 - val_recall: 0.9392 - learning_rate: 6.2500e-05\n"
          ]
        }
      ]
    },
    {
      "cell_type": "code",
      "source": [
        "model.save('model.h5')"
      ],
      "metadata": {
        "colab": {
          "base_uri": "https://localhost:8080/"
        },
        "id": "O7bW4IeQB_Nz",
        "outputId": "96463b93-82a3-440d-d501-729caffd57b9"
      },
      "execution_count": null,
      "outputs": [
        {
          "output_type": "stream",
          "name": "stderr",
          "text": [
            "WARNING:absl:You are saving your model as an HDF5 file via `model.save()` or `keras.saving.save_model(model)`. This file format is considered legacy. We recommend using instead the native Keras format, e.g. `model.save('my_model.keras')` or `keras.saving.save_model(model, 'my_model.keras')`. \n"
          ]
        }
      ]
    },
    {
      "cell_type": "code",
      "source": [
        "import matplotlib.pyplot as plt\n",
        "\n",
        "plt.figure(figsize=(10, 8))\n",
        "\n",
        "# Accuracy plot\n",
        "plt.subplot(3, 1, 1)\n",
        "plt.plot(history.history['accuracy'], label='Training Accuracy')\n",
        "plt.plot(history.history['val_accuracy'], label='Validation Accuracy')\n",
        "plt.xlabel('Epochs')\n",
        "plt.ylabel('Accuracy')\n",
        "plt.legend()\n",
        "\n",
        "# Recall plot\n",
        "plt.subplot(3, 1, 2)\n",
        "plt.plot(history.history['recall'], label='Training Recall')\n",
        "plt.plot(history.history['val_recall'], label='Validation Recall')\n",
        "plt.xlabel('Epochs')\n",
        "plt.ylabel('Recall')\n",
        "plt.legend()\n",
        "\n",
        "# AUC plot\n",
        "if 'auc' in history.history:\n",
        "    plt.subplot(3, 1, 3)\n",
        "    plt.plot(history.history['auc'], label='Training AUC')\n",
        "    plt.plot(history.history['val_auc'], label='Validation AUC')\n",
        "    plt.xlabel('Epochs')\n",
        "    plt.ylabel('AUC')\n",
        "    plt.legend()\n",
        "\n",
        "plt.tight_layout()\n",
        "plt.show()"
      ],
      "metadata": {
        "colab": {
          "base_uri": "https://localhost:8080/",
          "height": 807
        },
        "id": "l5GNA2CDFL46",
        "outputId": "944c3a3f-ff65-46ab-d6a2-d0894141b0c6"
      },
      "execution_count": null,
      "outputs": [
        {
          "output_type": "display_data",
          "data": {
            "text/plain": [
              "<Figure size 1000x800 with 3 Axes>"
            ],
            "image/png": "[encoded data removed]"
          },
          "metadata": {}
        }
      ]
    },
    {
      "cell_type": "code",
      "source": [
        "from tensorflow.keras.preprocessing.image import load_img, img_to_array\n",
        "import numpy as np\n",
        "import matplotlib.pyplot as plt\n",
        "\n",
        "model = load_model('model.h5')\n",
        "\n",
        "# Parameters\n",
        "img_height = 224\n",
        "img_width = 224\n",
        "\n",
        "# Load and preprocess the test image\n",
        "test_image_path = '14.jpg'\n",
        "img = load_img(test_image_path, target_size=(img_height, img_width))\n",
        "img_array = img_to_array(img) / 255.0\n",
        "img_array = np.expand_dims(img_array, axis=0)\n",
        "\n",
        "# Make a prediction\n",
        "prediction = model.predict(img_array)\n",
        "print(\"Prediction:\", \"NSFW\" if prediction[0][0] > 0.5 else \"Safe\")\n",
        "\n",
        "# Show the image\n",
        "plt.imshow(img)\n",
        "plt.axis('off')  # To hide the axes\n",
        "plt.show()"
      ],
      "metadata": {
        "id": "aQ48AbaJOASf"
      },
      "execution_count": null,
      "outputs": []
    },
    {
      "cell_type": "code",
      "source": [
        "!tensorflowjs_converter --input_format keras model.h5 model_tfjs"
      ],
      "metadata": {
        "colab": {
          "base_uri": "https://localhost:8080/"
        },
        "id": "3XWxgd30Uufa",
        "outputId": "f11ab093-07de-4233-dcbf-52afbbb4bcad"
      },
      "execution_count": null,
      "outputs": [
        {
          "output_type": "stream",
          "name": "stdout",
          "text": [
            "2024-12-11 17:57:35.513128: E external/local_xla/xla/stream_executor/cuda/cuda_fft.cc:477] Unable to register cuFFT factory: Attempting to register factory for plugin cuFFT when one has already been registered\n",
            "WARNING: All log messages before absl::InitializeLog() is called are written to STDERR\n",
            "E0000 00:00:1733939855.535604   69878 cuda_dnn.cc:8310] Unable to register cuDNN factory: Attempting to register factory for plugin cuDNN when one has already been registered\n",
            "E0000 00:00:1733939855.542025   69878 cuda_blas.cc:1418] Unable to register cuBLAS factory: Attempting to register factory for plugin cuBLAS when one has already been registered\n",
            "\u001b[32m🌲 Try \u001b[0m\u001b[34mhttps://ydf.readthedocs.io\u001b[0m\u001b[32m, the successor of TensorFlow Decision Forests with more features and faster training!\u001b[0m\n",
            "failed to lookup keras version from the file,\n",
            "    this is likely a weight only file\n"
          ]
        }
      ]
    }
  ]
}