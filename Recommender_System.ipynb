{
  "nbformat": 4,
  "nbformat_minor": 0,
  "metadata": {
    "colab": {
      "provenance": []
    },
    "kernelspec": {
      "name": "python3",
      "display_name": "Python 3"
    },
    "language_info": {
      "name": "python"
    }
  },
  "cells": [
    {
      "cell_type": "code",
      "execution_count": null,
      "metadata": {
        "id": "2H9fQerthKPq"
      },
      "outputs": [],
      "source": [
        "import pandas as pd\n",
        "import numpy as np\n",
        "import seaborn as sns\n",
        "import matplotlib.pyplot as plt\n",
        "import scipy\n",
        "from sklearn.cluster import KMeans\n",
        "from sklearn.preprocessing import MinMaxScaler, StandardScaler, OneHotEncoder, FunctionTransformer\n",
        "from sklearn.metrics.pairwise import cosine_similarity\n",
        "from scipy.sparse import hstack\n",
        "from sklearn.compose import ColumnTransformer\n",
        "from sklearn.pipeline import Pipeline\n",
        "from sklearn.impute import SimpleImputer\n",
        "\n",
        "pd.set_option('display.max_columns', None)"
      ]
    },
    {
      "cell_type": "code",
      "source": [
        "df = pd.read_csv('merged_dataset.csv')"
      ],
      "metadata": {
        "id": "cpHGfq9Mi6jm"
      },
      "execution_count": null,
      "outputs": []
    },
    {
      "cell_type": "code",
      "source": [
        "df.head()"
      ],
      "metadata": {
        "colab": {
          "base_uri": "https://localhost:8080/",
          "height": 487
        },
        "id": "fnWYHxNpjHTr",
        "outputId": "693feb73-f477-47c6-bca9-2ad4038a6e2a"
      },
      "execution_count": null,
      "outputs": [
        {
          "output_type": "execute_result",
          "data": {
            "text/plain": [
              "    user  age  status  gender drinks  height smokes      religion  \\\n",
              "0  user0   31  single  female    yes   168.0     no      hinduism   \n",
              "1  user1   50  single  female    yes   175.0     no      buddhism   \n",
              "2  user2   25  single    male    yes   188.0     no  confucianism   \n",
              "3  user3   39  single    male    yes   175.0     no      hinduism   \n",
              "4  user4   22  single    male    yes   170.0    yes      buddhism   \n",
              "\n",
              "                      genre music_decade            music_vibe  \\\n",
              "0                     K-Pop        2020s    Relaxing and Chill   \n",
              "1                     K-Pop        2020s  Upbeat and Energetic   \n",
              "2  Traditional & Folk Music        2000s    Relaxing and Chill   \n",
              "3                       Pop        2010s    Relaxing and Chill   \n",
              "4         Indie/Alternative        1980s  Upbeat and Energetic   \n",
              "\n",
              "  listening_frequency                                      concert  \n",
              "0          Frequently          No, I prefer not to attend concerts  \n",
              "1          Frequently  Sometimes, depending on the artist or event  \n",
              "2          Frequently          No, I prefer not to attend concerts  \n",
              "3          Frequently          No, I prefer not to attend concerts  \n",
              "4          Frequently  Sometimes, depending on the artist or event  "
            ],
            "text/html": [
              "\n",
              "  <div id=\"df-b44cb0bc-e97d-476f-baa7-78f7450df0bb\" class=\"colab-df-container\">\n",
              "    <div>\n",
              "<style scoped>\n",
              "    .dataframe tbody tr th:only-of-type {\n",
              "        vertical-align: middle;\n",
              "    }\n",
              "\n",
              "    .dataframe tbody tr th {\n",
              "        vertical-align: top;\n",
              "    }\n",
              "\n",
              "    .dataframe thead th {\n",
              "        text-align: right;\n",
              "    }\n",
              "</style>\n",
              "<table border=\"1\" class=\"dataframe\">\n",
              "  <thead>\n",
              "    <tr style=\"text-align: right;\">\n",
              "      <th></th>\n",
              "      <th>user</th>\n",
              "      <th>age</th>\n",
              "      <th>status</th>\n",
              "      <th>gender</th>\n",
              "      <th>drinks</th>\n",
              "      <th>height</th>\n",
              "      <th>smokes</th>\n",
              "      <th>religion</th>\n",
              "      <th>genre</th>\n",
              "      <th>music_decade</th>\n",
              "      <th>music_vibe</th>\n",
              "      <th>listening_frequency</th>\n",
              "      <th>concert</th>\n",
              "    </tr>\n",
              "  </thead>\n",
              "  <tbody>\n",
              "    <tr>\n",
              "      <th>0</th>\n",
              "      <td>user0</td>\n",
              "      <td>31</td>\n",
              "      <td>single</td>\n",
              "      <td>female</td>\n",
              "      <td>yes</td>\n",
              "      <td>168.0</td>\n",
              "      <td>no</td>\n",
              "      <td>hinduism</td>\n",
              "      <td>K-Pop</td>\n",
              "      <td>2020s</td>\n",
              "      <td>Relaxing and Chill</td>\n",
              "      <td>Frequently</td>\n",
              "      <td>No, I prefer not to attend concerts</td>\n",
              "    </tr>\n",
              "    <tr>\n",
              "      <th>1</th>\n",
              "      <td>user1</td>\n",
              "      <td>50</td>\n",
              "      <td>single</td>\n",
              "      <td>female</td>\n",
              "      <td>yes</td>\n",
              "      <td>175.0</td>\n",
              "      <td>no</td>\n",
              "      <td>buddhism</td>\n",
              "      <td>K-Pop</td>\n",
              "      <td>2020s</td>\n",
              "      <td>Upbeat and Energetic</td>\n",
              "      <td>Frequently</td>\n",
              "      <td>Sometimes, depending on the artist or event</td>\n",
              "    </tr>\n",
              "    <tr>\n",
              "      <th>2</th>\n",
              "      <td>user2</td>\n",
              "      <td>25</td>\n",
              "      <td>single</td>\n",
              "      <td>male</td>\n",
              "      <td>yes</td>\n",
              "      <td>188.0</td>\n",
              "      <td>no</td>\n",
              "      <td>confucianism</td>\n",
              "      <td>Traditional &amp; Folk Music</td>\n",
              "      <td>2000s</td>\n",
              "      <td>Relaxing and Chill</td>\n",
              "      <td>Frequently</td>\n",
              "      <td>No, I prefer not to attend concerts</td>\n",
              "    </tr>\n",
              "    <tr>\n",
              "      <th>3</th>\n",
              "      <td>user3</td>\n",
              "      <td>39</td>\n",
              "      <td>single</td>\n",
              "      <td>male</td>\n",
              "      <td>yes</td>\n",
              "      <td>175.0</td>\n",
              "      <td>no</td>\n",
              "      <td>hinduism</td>\n",
              "      <td>Pop</td>\n",
              "      <td>2010s</td>\n",
              "      <td>Relaxing and Chill</td>\n",
              "      <td>Frequently</td>\n",
              "      <td>No, I prefer not to attend concerts</td>\n",
              "    </tr>\n",
              "    <tr>\n",
              "      <th>4</th>\n",
              "      <td>user4</td>\n",
              "      <td>22</td>\n",
              "      <td>single</td>\n",
              "      <td>male</td>\n",
              "      <td>yes</td>\n",
              "      <td>170.0</td>\n",
              "      <td>yes</td>\n",
              "      <td>buddhism</td>\n",
              "      <td>Indie/Alternative</td>\n",
              "      <td>1980s</td>\n",
              "      <td>Upbeat and Energetic</td>\n",
              "      <td>Frequently</td>\n",
              "      <td>Sometimes, depending on the artist or event</td>\n",
              "    </tr>\n",
              "  </tbody>\n",
              "</table>\n",
              "</div>\n",
              "    <div class=\"colab-df-buttons\">\n",
              "\n",
              "  <div class=\"colab-df-container\">\n",
              "    <button class=\"colab-df-convert\" onclick=\"convertToInteractive('df-b44cb0bc-e97d-476f-baa7-78f7450df0bb')\"\n",
              "            title=\"Convert this dataframe to an interactive table.\"\n",
              "            style=\"display:none;\">\n",
              "\n",
              "  <svg xmlns=\"http://www.w3.org/2000/svg\" height=\"24px\" viewBox=\"0 -960 960 960\">\n",
              "    <path d=\"M120-120v-720h720v720H120Zm60-500h600v-160H180v160Zm220 220h160v-160H400v160Zm0 220h160v-160H400v160ZM180-400h160v-160H180v160Zm440 0h160v-160H620v160ZM180-180h160v-160H180v160Zm440 0h160v-160H620v160Z\"/>\n",
              "  </svg>\n",
              "    </button>\n",
              "\n",
              "  <style>\n",
              "    .colab-df-container {\n",
              "      display:flex;\n",
              "      gap: 12px;\n",
              "    }\n",
              "\n",
              "    .colab-df-convert {\n",
              "      background-color: #E8F0FE;\n",
              "      border: none;\n",
              "      border-radius: 50%;\n",
              "      cursor: pointer;\n",
              "      display: none;\n",
              "      fill: #1967D2;\n",
              "      height: 32px;\n",
              "      padding: 0 0 0 0;\n",
              "      width: 32px;\n",
              "    }\n",
              "\n",
              "    .colab-df-convert:hover {\n",
              "      background-color: #E2EBFA;\n",
              "      box-shadow: 0px 1px 2px rgba(60, 64, 67, 0.3), 0px 1px 3px 1px rgba(60, 64, 67, 0.15);\n",
              "      fill: #174EA6;\n",
              "    }\n",
              "\n",
              "    .colab-df-buttons div {\n",
              "      margin-bottom: 4px;\n",
              "    }\n",
              "\n",
              "    [theme=dark] .colab-df-convert {\n",
              "      background-color: #3B4455;\n",
              "      fill: #D2E3FC;\n",
              "    }\n",
              "\n",
              "    [theme=dark] .colab-df-convert:hover {\n",
              "      background-color: #434B5C;\n",
              "      box-shadow: 0px 1px 3px 1px rgba(0, 0, 0, 0.15);\n",
              "      filter: drop-shadow(0px 1px 2px rgba(0, 0, 0, 0.3));\n",
              "      fill: #FFFFFF;\n",
              "    }\n",
              "  </style>\n",
              "\n",
              "    <script>\n",
              "      const buttonEl =\n",
              "        document.querySelector('#df-b44cb0bc-e97d-476f-baa7-78f7450df0bb button.colab-df-convert');\n",
              "      buttonEl.style.display =\n",
              "        google.colab.kernel.accessAllowed ? 'block' : 'none';\n",
              "\n",
              "      async function convertToInteractive(key) {\n",
              "        const element = document.querySelector('#df-b44cb0bc-e97d-476f-baa7-78f7450df0bb');\n",
              "        const dataTable =\n",
              "          await google.colab.kernel.invokeFunction('convertToInteractive',\n",
              "                                                    [key], {});\n",
              "        if (!dataTable) return;\n",
              "\n",
              "        const docLinkHtml = 'Like what you see? Visit the ' +\n",
              "          '<a target=\"_blank\" href=https://colab.research.google.com/notebooks/data_table.ipynb>data table notebook</a>'\n",
              "          + ' to learn more about interactive tables.';\n",
              "        element.innerHTML = '';\n",
              "        dataTable['output_type'] = 'display_data';\n",
              "        await google.colab.output.renderOutput(dataTable, element);\n",
              "        const docLink = document.createElement('div');\n",
              "        docLink.innerHTML = docLinkHtml;\n",
              "        element.appendChild(docLink);\n",
              "      }\n",
              "    </script>\n",
              "  </div>\n",
              "\n",
              "\n",
              "<div id=\"df-aa5e42a2-f8a7-4055-ac31-4dd9de78802b\">\n",
              "  <button class=\"colab-df-quickchart\" onclick=\"quickchart('df-aa5e42a2-f8a7-4055-ac31-4dd9de78802b')\"\n",
              "            title=\"Suggest charts\"\n",
              "            style=\"display:none;\">\n",
              "\n",
              "<svg xmlns=\"http://www.w3.org/2000/svg\" height=\"24px\"viewBox=\"0 0 24 24\"\n",
              "     width=\"24px\">\n",
              "    <g>\n",
              "        <path d=\"M19 3H5c-1.1 0-2 .9-2 2v14c0 1.1.9 2 2 2h14c1.1 0 2-.9 2-2V5c0-1.1-.9-2-2-2zM9 17H7v-7h2v7zm4 0h-2V7h2v10zm4 0h-2v-4h2v4z\"/>\n",
              "    </g>\n",
              "</svg>\n",
              "  </button>\n",
              "\n",
              "<style>\n",
              "  .colab-df-quickchart {\n",
              "      --bg-color: #E8F0FE;\n",
              "      --fill-color: #1967D2;\n",
              "      --hover-bg-color: #E2EBFA;\n",
              "      --hover-fill-color: #174EA6;\n",
              "      --disabled-fill-color: #AAA;\n",
              "      --disabled-bg-color: #DDD;\n",
              "  }\n",
              "\n",
              "  [theme=dark] .colab-df-quickchart {\n",
              "      --bg-color: #3B4455;\n",
              "      --fill-color: #D2E3FC;\n",
              "      --hover-bg-color: #434B5C;\n",
              "      --hover-fill-color: #FFFFFF;\n",
              "      --disabled-bg-color: #3B4455;\n",
              "      --disabled-fill-color: #666;\n",
              "  }\n",
              "\n",
              "  .colab-df-quickchart {\n",
              "    background-color: var(--bg-color);\n",
              "    border: none;\n",
              "    border-radius: 50%;\n",
              "    cursor: pointer;\n",
              "    display: none;\n",
              "    fill: var(--fill-color);\n",
              "    height: 32px;\n",
              "    padding: 0;\n",
              "    width: 32px;\n",
              "  }\n",
              "\n",
              "  .colab-df-quickchart:hover {\n",
              "    background-color: var(--hover-bg-color);\n",
              "    box-shadow: 0 1px 2px rgba(60, 64, 67, 0.3), 0 1px 3px 1px rgba(60, 64, 67, 0.15);\n",
              "    fill: var(--button-hover-fill-color);\n",
              "  }\n",
              "\n",
              "  .colab-df-quickchart-complete:disabled,\n",
              "  .colab-df-quickchart-complete:disabled:hover {\n",
              "    background-color: var(--disabled-bg-color);\n",
              "    fill: var(--disabled-fill-color);\n",
              "    box-shadow: none;\n",
              "  }\n",
              "\n",
              "  .colab-df-spinner {\n",
              "    border: 2px solid var(--fill-color);\n",
              "    border-color: transparent;\n",
              "    border-bottom-color: var(--fill-color);\n",
              "    animation:\n",
              "      spin 1s steps(1) infinite;\n",
              "  }\n",
              "\n",
              "  @keyframes spin {\n",
              "    0% {\n",
              "      border-color: transparent;\n",
              "      border-bottom-color: var(--fill-color);\n",
              "      border-left-color: var(--fill-color);\n",
              "    }\n",
              "    20% {\n",
              "      border-color: transparent;\n",
              "      border-left-color: var(--fill-color);\n",
              "      border-top-color: var(--fill-color);\n",
              "    }\n",
              "    30% {\n",
              "      border-color: transparent;\n",
              "      border-left-color: var(--fill-color);\n",
              "      border-top-color: var(--fill-color);\n",
              "      border-right-color: var(--fill-color);\n",
              "    }\n",
              "    40% {\n",
              "      border-color: transparent;\n",
              "      border-right-color: var(--fill-color);\n",
              "      border-top-color: var(--fill-color);\n",
              "    }\n",
              "    60% {\n",
              "      border-color: transparent;\n",
              "      border-right-color: var(--fill-color);\n",
              "    }\n",
              "    80% {\n",
              "      border-color: transparent;\n",
              "      border-right-color: var(--fill-color);\n",
              "      border-bottom-color: var(--fill-color);\n",
              "    }\n",
              "    90% {\n",
              "      border-color: transparent;\n",
              "      border-bottom-color: var(--fill-color);\n",
              "    }\n",
              "  }\n",
              "</style>\n",
              "\n",
              "  <script>\n",
              "    async function quickchart(key) {\n",
              "      const quickchartButtonEl =\n",
              "        document.querySelector('#' + key + ' button');\n",
              "      quickchartButtonEl.disabled = true;  // To prevent multiple clicks.\n",
              "      quickchartButtonEl.classList.add('colab-df-spinner');\n",
              "      try {\n",
              "        const charts = await google.colab.kernel.invokeFunction(\n",
              "            'suggestCharts', [key], {});\n",
              "      } catch (error) {\n",
              "        console.error('Error during call to suggestCharts:', error);\n",
              "      }\n",
              "      quickchartButtonEl.classList.remove('colab-df-spinner');\n",
              "      quickchartButtonEl.classList.add('colab-df-quickchart-complete');\n",
              "    }\n",
              "    (() => {\n",
              "      let quickchartButtonEl =\n",
              "        document.querySelector('#df-aa5e42a2-f8a7-4055-ac31-4dd9de78802b button');\n",
              "      quickchartButtonEl.style.display =\n",
              "        google.colab.kernel.accessAllowed ? 'block' : 'none';\n",
              "    })();\n",
              "  </script>\n",
              "</div>\n",
              "\n",
              "    </div>\n",
              "  </div>\n"
            ],
            "application/vnd.google.colaboratory.intrinsic+json": {
              "type": "dataframe",
              "variable_name": "df",
              "summary": "{\n  \"name\": \"df\",\n  \"rows\": 300,\n  \"fields\": [\n    {\n      \"column\": \"user\",\n      \"properties\": {\n        \"dtype\": \"string\",\n        \"num_unique_values\": 300,\n        \"samples\": [\n          \"user203\",\n          \"user266\",\n          \"user152\"\n        ],\n        \"semantic_type\": \"\",\n        \"description\": \"\"\n      }\n    },\n    {\n      \"column\": \"age\",\n      \"properties\": {\n        \"dtype\": \"number\",\n        \"std\": 9,\n        \"min\": 18,\n        \"max\": 65,\n        \"num_unique_values\": 44,\n        \"samples\": [\n          59,\n          33,\n          43\n        ],\n        \"semantic_type\": \"\",\n        \"description\": \"\"\n      }\n    },\n    {\n      \"column\": \"status\",\n      \"properties\": {\n        \"dtype\": \"category\",\n        \"num_unique_values\": 2,\n        \"samples\": [\n          \"in a relationship\",\n          \"single\"\n        ],\n        \"semantic_type\": \"\",\n        \"description\": \"\"\n      }\n    },\n    {\n      \"column\": \"gender\",\n      \"properties\": {\n        \"dtype\": \"category\",\n        \"num_unique_values\": 2,\n        \"samples\": [\n          \"male\",\n          \"female\"\n        ],\n        \"semantic_type\": \"\",\n        \"description\": \"\"\n      }\n    },\n    {\n      \"column\": \"drinks\",\n      \"properties\": {\n        \"dtype\": \"category\",\n        \"num_unique_values\": 2,\n        \"samples\": [\n          \"no\",\n          \"yes\"\n        ],\n        \"semantic_type\": \"\",\n        \"description\": \"\"\n      }\n    },\n    {\n      \"column\": \"height\",\n      \"properties\": {\n        \"dtype\": \"number\",\n        \"std\": 9.722730782473123,\n        \"min\": 150.0,\n        \"max\": 196.0,\n        \"num_unique_values\": 19,\n        \"samples\": [\n          168.0,\n          178.0\n        ],\n        \"semantic_type\": \"\",\n        \"description\": \"\"\n      }\n    },\n    {\n      \"column\": \"smokes\",\n      \"properties\": {\n        \"dtype\": \"category\",\n        \"num_unique_values\": 2,\n        \"samples\": [\n          \"yes\",\n          \"no\"\n        ],\n        \"semantic_type\": \"\",\n        \"description\": \"\"\n      }\n    },\n    {\n      \"column\": \"religion\",\n      \"properties\": {\n        \"dtype\": \"category\",\n        \"num_unique_values\": 6,\n        \"samples\": [\n          \"hinduism\",\n          \"buddhism\"\n        ],\n        \"semantic_type\": \"\",\n        \"description\": \"\"\n      }\n    },\n    {\n      \"column\": \"genre\",\n      \"properties\": {\n        \"dtype\": \"category\",\n        \"num_unique_values\": 35,\n        \"samples\": [\n          \"hip-hop/rap\",\n          \"Ballad\"\n        ],\n        \"semantic_type\": \"\",\n        \"description\": \"\"\n      }\n    },\n    {\n      \"column\": \"music_decade\",\n      \"properties\": {\n        \"dtype\": \"category\",\n        \"num_unique_values\": 6,\n        \"samples\": [\n          \"2020s\",\n          \"2000s\"\n        ],\n        \"semantic_type\": \"\",\n        \"description\": \"\"\n      }\n    },\n    {\n      \"column\": \"music_vibe\",\n      \"properties\": {\n        \"dtype\": \"category\",\n        \"num_unique_values\": 5,\n        \"samples\": [\n          \"Upbeat and Energetic\",\n          \"Dark and Intense\"\n        ],\n        \"semantic_type\": \"\",\n        \"description\": \"\"\n      }\n    },\n    {\n      \"column\": \"listening_frequency\",\n      \"properties\": {\n        \"dtype\": \"category\",\n        \"num_unique_values\": 5,\n        \"samples\": [\n          \"Only in specific situations\",\n          \"Never\"\n        ],\n        \"semantic_type\": \"\",\n        \"description\": \"\"\n      }\n    },\n    {\n      \"column\": \"concert\",\n      \"properties\": {\n        \"dtype\": \"category\",\n        \"num_unique_values\": 3,\n        \"samples\": [\n          \"No, I prefer not to attend concerts\",\n          \"Sometimes, depending on the artist or event\"\n        ],\n        \"semantic_type\": \"\",\n        \"description\": \"\"\n      }\n    }\n  ]\n}"
            }
          },
          "metadata": {},
          "execution_count": 4
        }
      ]
    },
    {
      "cell_type": "code",
      "source": [
        "# Histogram to see data distribution of 'age' and 'height'\n",
        "\n",
        "sns.histplot(df['age'], kde=True)\n",
        "plt.title('Age Distribution')\n",
        "plt.show()\n",
        "\n",
        "sns.histplot(df['height'], kde=True)\n",
        "plt.title('Height Distribution')\n",
        "plt.show()\n"
      ],
      "metadata": {
        "colab": {
          "base_uri": "https://localhost:8080/",
          "height": 927
        },
        "id": "R3hkZgyGNgNq",
        "outputId": "de35fc2f-2530-4657-b5fe-a51906939415"
      },
      "execution_count": null,
      "outputs": [
        {
          "output_type": "display_data",
          "data": {
            "text/plain": [
              "<Figure size 640x480 with 1 Axes>"
            ],
            "image/png": "[encoded data removed]"
          },
          "metadata": {}
        },
        {
          "output_type": "display_data",
          "data": {
            "text/plain": [
              "<Figure size 640x480 with 1 Axes>"
            ],
            "image/png": "[encoded data removed]"
          },
          "metadata": {}
        }
      ]
    },
    {
      "cell_type": "code",
      "source": [
        "print(df['drinks'].unique())"
      ],
      "metadata": {
        "colab": {
          "base_uri": "https://localhost:8080/"
        },
        "id": "Vce3grgJoMbe",
        "outputId": "cf2e8f53-84c7-4520-d2a1-4269dd8b396f"
      },
      "execution_count": null,
      "outputs": [
        {
          "output_type": "stream",
          "name": "stdout",
          "text": [
            "['yes' 'no']\n"
          ]
        }
      ]
    },
    {
      "cell_type": "code",
      "source": [
        "def map_smokes_drinks(df):\n",
        "    return df.assign(\n",
        "        smokes=df['smokes'].map({'yes': 1, 'no': 0}),\n",
        "        drinks=df['drinks'].map({'yes': 1, 'no': 0})\n",
        "    )\n",
        "\n",
        "def lowercase_columns(df):\n",
        "    return df.assign(\n",
        "        religion=df['religion'].str.lower(),\n",
        "        genre=df['genre'].str.lower(),\n",
        "        music_vibe=df['music_vibe'].str.lower()\n",
        "    )\n",
        "\n",
        "def replace_concert(df):\n",
        "    return df.assign(\n",
        "        concert=df['concert'].replace({\n",
        "            'No, I prefer not to attend concerts': 'no',\n",
        "            'Sometimes, depending on the artist or event': 'sometimes',\n",
        "            'Yes, I love attending concerts': 'yes'\n",
        "        })\n",
        "    )\n"
      ],
      "metadata": {
        "id": "WxCnknxHHy_t"
      },
      "execution_count": null,
      "outputs": []
    },
    {
      "cell_type": "code",
      "source": [
        "# Define the columns for categorical and numerical features\n",
        "cat_columns = ['religion', 'genre', 'music_vibe', 'music_decade', 'listening_frequency', 'concert']\n",
        "num_columns = ['age', 'height']\n",
        "\n",
        "# Define the preprocessing pipeline for categorical and numerical columns\n",
        "preprocess_pipeline = Pipeline(steps=[\n",
        "    ('smokes_drinks', FunctionTransformer(map_smokes_drinks, validate=False)),\n",
        "    ('lowercase', FunctionTransformer(lowercase_columns, validate=False)),\n",
        "    ('concert', FunctionTransformer(replace_concert, validate=False)),\n",
        "    # OHE and Scaling\n",
        "    ('preprocessor', ColumnTransformer(\n",
        "        transformers=[\n",
        "            ('cat', OneHotEncoder(drop=None), cat_columns),\n",
        "            ('num_age', MinMaxScaler(), ['age']),\n",
        "            ('num_height', StandardScaler(), ['height']),\n",
        "            ('smokes_drinks', 'passthrough', ['smokes', 'drinks']),\n",
        "        ]\n",
        "    )),\n",
        "])\n",
        "\n",
        "# Fit and transform the data using the preprocessing pipeline\n",
        "df_processed = preprocess_pipeline.fit_transform(df[cat_columns + num_columns + ['smokes', 'drinks']])\n",
        "\n",
        "# Convert the sparse matrix to a dense matrix (if needed)\n",
        "df_processed = df_processed.toarray() if isinstance(df_processed, scipy.sparse.csr.csr_matrix) else df_processed\n",
        "\n",
        "# Get the column names for the transformed categorical features\n",
        "encoded_columns = list(preprocess_pipeline.named_steps['preprocessor'].transformers_[0][1].get_feature_names_out(cat_columns))\n",
        "\n",
        "# Include the processed 'smokes' and 'drinks' columns\n",
        "processed_columns = encoded_columns + ['age_scaled', 'height_scaled', 'smokes', 'drinks']\n",
        "\n",
        "# Create DataFrame for the processed data\n",
        "df_processed = pd.DataFrame(df_processed, columns=processed_columns)\n",
        "\n",
        "# Add the 'user' and 'gender' columns back to the processed DataFrame\n",
        "df_processed['user'] = df['user']\n",
        "df_processed['gender'] = df['gender']"
      ],
      "metadata": {
        "id": "jsLLwrtSWJhK",
        "colab": {
          "base_uri": "https://localhost:8080/"
        },
        "outputId": "60290739-f8d9-49ff-eb64-6011b0dc385b"
      },
      "execution_count": null,
      "outputs": [
        {
          "output_type": "stream",
          "name": "stderr",
          "text": [
            "<ipython-input-5-7c1f22a18b1b>:25: DeprecationWarning: Please import `csr_matrix` from the `scipy.sparse` namespace; the `scipy.sparse.csr` namespace is deprecated and will be removed in SciPy 2.0.0.\n",
            "  df_processed = df_processed.toarray() if isinstance(df_processed, scipy.sparse.csr.csr_matrix) else df_processed\n"
          ]
        }
      ]
    },
    {
      "cell_type": "code",
      "source": [
        "df_processed.iloc[0].values"
      ],
      "metadata": {
        "colab": {
          "base_uri": "https://localhost:8080/"
        },
        "id": "AD93bTTvZuNq",
        "outputId": "ede76c08-6da9-457e-87fd-130e146cc1fe"
      },
      "execution_count": null,
      "outputs": [
        {
          "output_type": "execute_result",
          "data": {
            "text/plain": [
              "array([0.0, 0.0, 1.0, 0.0, 0.0, 0.0, 0.0, 0.0, 0.0, 0.0, 0.0, 0.0, 0.0,\n",
              "       0.0, 0.0, 0.0, 0.0, 1.0, 0.0, 0.0, 0.0, 0.0, 0.0, 0.0, 0.0, 0.0,\n",
              "       0.0, 0.0, 0.0, 1.0, 0.0, 0.0, 0.0, 0.0, 0.0, 0.0, 0.0, 1.0, 1.0,\n",
              "       0.0, 0.0, 0.0, 0.0, 1.0, 0.0, 0.0, 0.276595744680851,\n",
              "       -0.5271374820458772, 0.0, 1.0, 'user0', 'female'], dtype=object)"
            ]
          },
          "metadata": {},
          "execution_count": 144
        }
      ]
    },
    {
      "cell_type": "code",
      "source": [
        "df_processed.columns"
      ],
      "metadata": {
        "colab": {
          "base_uri": "https://localhost:8080/"
        },
        "id": "XepxR9D-qCOb",
        "outputId": "e83475c4-5f30-421d-85a8-e5ae76343cbd"
      },
      "execution_count": null,
      "outputs": [
        {
          "output_type": "execute_result",
          "data": {
            "text/plain": [
              "Index(['religion_buddhism', 'religion_confucianism', 'religion_hinduism',\n",
              "       'religion_islam', 'religion_protestant christianity',\n",
              "       'religion_roman catholicism', 'genre_ballad', 'genre_blues',\n",
              "       'genre_classical', 'genre_country', 'genre_dangdut', 'genre_edm',\n",
              "       'genre_edm (electronic dance music)', 'genre_hip-hop/rap',\n",
              "       'genre_indie/alternative', 'genre_j-pop', 'genre_jazz', 'genre_k-pop',\n",
              "       'genre_metal', 'genre_pop', 'genre_pop indonesia', 'genre_punk',\n",
              "       'genre_r&b', 'genre_reggae', 'genre_rock', 'genre_soul',\n",
              "       'genre_traditional & folk music', 'music_vibe_dark and intense',\n",
              "       'music_vibe_emotional and deep', 'music_vibe_relaxing and chill',\n",
              "       'music_vibe_romantic and smooth', 'music_vibe_upbeat and energetic',\n",
              "       'music_decade_1970s', 'music_decade_1980s', 'music_decade_1990s',\n",
              "       'music_decade_2000s', 'music_decade_2010s', 'music_decade_2020s',\n",
              "       'listening_frequency_Frequently', 'listening_frequency_Never',\n",
              "       'listening_frequency_Occasionally',\n",
              "       'listening_frequency_Only in specific situations',\n",
              "       'listening_frequency_Rarely', 'concert_no', 'concert_sometimes',\n",
              "       'concert_yes', 'age_scaled', 'height_scaled', 'smokes', 'drinks',\n",
              "       'user', 'gender'],\n",
              "      dtype='object')"
            ]
          },
          "metadata": {},
          "execution_count": 145
        }
      ]
    },
    {
      "cell_type": "code",
      "source": [
        "# Elbow Method to find the optimal number of clusters\n",
        "general_pref = [\n",
        "    'religion_buddhism', 'religion_confucianism', 'religion_hinduism', 'religion_islam', 'religion_protestant christianity',\n",
        "    'religion_roman catholicism', 'age_scaled', 'height_scaled',\n",
        "    'smokes', 'drinks'\n",
        "]\n",
        "\n",
        "general_df = df_processed[general_pref]\n",
        "\n",
        "inertia = []\n",
        "for i in range(1, 11):  # Test with 1 to 10 clusters\n",
        "    kmeans = KMeans(n_clusters=i, random_state=42)\n",
        "    kmeans.fit(general_df)\n",
        "    inertia.append(kmeans.inertia_)\n",
        "\n",
        "plt.plot(range(1, 11), inertia, marker='o')\n",
        "plt.title('Elbow Method for Optimal Clusters')\n",
        "plt.xlabel('Number of Clusters')\n",
        "plt.ylabel('Inertia')\n",
        "plt.show()"
      ],
      "metadata": {
        "colab": {
          "base_uri": "https://localhost:8080/",
          "height": 472
        },
        "id": "suPykvlriQlB",
        "outputId": "4a4f5e6b-f639-4b5a-d3d2-c7d9be03e30e"
      },
      "execution_count": null,
      "outputs": [
        {
          "output_type": "display_data",
          "data": {
            "text/plain": [
              "<Figure size 640x480 with 1 Axes>"
            ],
            "image/png": "[encoded data removed]"
          },
          "metadata": {}
        }
      ]
    },
    {
      "cell_type": "code",
      "source": [
        "cluster_columns = [\n",
        "    'religion_buddhism', 'religion_confucianism', 'religion_hinduism', 'religion_islam',\n",
        "    'religion_protestant christianity', 'religion_roman catholicism', 'age_scaled', 'height_scaled',\n",
        "    'smokes', 'drinks'\n",
        "]\n",
        "\n",
        "# Extract the data for clustering\n",
        "X = df_processed[cluster_columns]\n",
        "\n",
        "# Apply KMeans with 3 clusters\n",
        "kmeans = KMeans(n_clusters=3, random_state=42)\n",
        "kmeans.fit(X)\n",
        "\n",
        "# Get the cluster labels\n",
        "df_processed['cluster'] = kmeans.labels_"
      ],
      "metadata": {
        "id": "cbTbqVeSil8U"
      },
      "execution_count": null,
      "outputs": []
    },
    {
      "cell_type": "code",
      "source": [
        "music_pref_columns = [\n",
        "    'genre_ballad', 'genre_blues', 'genre_classical', 'genre_country', 'genre_dangdut',\n",
        "    'genre_edm', 'genre_edm (electronic dance music)', 'genre_hip-hop/rap', 'genre_indie/alternative',\n",
        "    'genre_j-pop', 'genre_jazz', 'genre_k-pop', 'genre_metal', 'genre_pop', 'genre_pop indonesia',\n",
        "    'genre_punk', 'genre_r&b', 'genre_reggae', 'genre_rock', 'genre_soul', 'genre_traditional & folk music',\n",
        "\n",
        "    'music_vibe_dark and intense', 'music_vibe_emotional and deep', 'music_vibe_relaxing and chill',\n",
        "    'music_vibe_romantic and smooth', 'music_vibe_upbeat and energetic',\n",
        "\n",
        "    'music_decade_1970s', 'music_decade_1980s', 'music_decade_1990s', 'music_decade_2000s',\n",
        "    'music_decade_2010s', 'music_decade_2020s',\n",
        "\n",
        "    'listening_frequency_Frequently', 'listening_frequency_Never', 'listening_frequency_Occasionally',\n",
        "    'listening_frequency_Only in specific situations', 'listening_frequency_Rarely',\n",
        "\n",
        "    'concert_no', 'concert_sometimes', 'concert_yes'\n",
        "]\n",
        "\n",
        "# Extract the music preference columns from df_processed\n",
        "music_pref_df = df_processed[music_pref_columns]\n",
        "\n",
        "# Create a cosine similarity matrix for all users\n",
        "cos_sim_matrix = cosine_similarity(music_pref_df)\n",
        "\n",
        "# Loop over each cluster and find matches\n",
        "df_processed['cosine_similarities'] = None\n",
        "\n",
        "for cluster_id in df_processed['cluster'].unique():\n",
        "    # Get the indices of users in the current cluster\n",
        "    cluster_indices = df_processed[df_processed['cluster'] == cluster_id].index\n",
        "\n",
        "    # Calculate cosine similarity for users in the current cluster\n",
        "    cluster_cos_sim_matrix = cos_sim_matrix[cluster_indices][:, cluster_indices]\n",
        "\n",
        "    # Get the indices of the most similar users (excluding the user itself)\n",
        "    for idx in cluster_indices:\n",
        "        # Find the relative index of the current user in the cluster\n",
        "        rel_idx = np.where(cluster_indices == idx)[0][0]\n",
        "\n",
        "        # Get similarity row for the user\n",
        "        user_similarities = cluster_cos_sim_matrix[rel_idx]\n",
        "\n",
        "        # Get the indices of the most similar users, excluding the user itself\n",
        "        similar_users_idx = np.argsort(user_similarities)[::-1][1:31]\n",
        "\n",
        "        # Map back to the original user indices and store them\n",
        "        similar_users = cluster_indices[similar_users_idx]\n",
        "        df_processed.at[idx, 'cosine_similarities'] = list(similar_users)"
      ],
      "metadata": {
        "id": "gm9J-jJ32_WE"
      },
      "execution_count": null,
      "outputs": []
    },
    {
      "cell_type": "code",
      "source": [
        "def preprocess_user(user_id, df, preprocess_pipeline):\n",
        "    # Extract the user's data from the original dataframe\n",
        "    user_data = df[df['user'] == user_id]\n",
        "\n",
        "    # Preprocess the user's data using the preprocessing pipeline\n",
        "    user_data_processed = preprocess_pipeline.transform(user_data[cat_columns + num_columns + ['smokes', 'drinks']])\n",
        "\n",
        "    # Only keep the necessary features for clustering (the ones used for KMeans)\n",
        "    user_data_processed = user_data_processed[:, :len(cluster_columns)]\n",
        "\n",
        "    return user_data_processed\n",
        "\n",
        "def assign_cluster(user_data_processed, df_processed, kmeans):\n",
        "    # Predict the cluster label for the processed user data\n",
        "    cluster_label = kmeans.predict(user_data_processed)[0]\n",
        "    return cluster_label\n",
        "\n",
        "def find_similar_users(user_id, df_processed, cos_sim_matrix):\n",
        "    # Get the index of the current user\n",
        "    user_idx = df_processed[df_processed['user'] == user_id].index[0]\n",
        "\n",
        "    # Get the similarity row for the current user from the cosine similarity matrix\n",
        "    user_similarities = cos_sim_matrix[user_idx]\n",
        "\n",
        "    # Get the indices of the most similar users (excluding the user itself)\n",
        "    similar_users_idx = np.argsort(user_similarities)[::-1][1:31]\n",
        "\n",
        "    # Get the user IDs of the most similar users\n",
        "    similar_users = df_processed.iloc[similar_users_idx]\n",
        "\n",
        "    # Get the gender of the current user\n",
        "    current_user_gender = df_processed.iloc[user_idx]['gender']\n",
        "\n",
        "    # Filter out users of the same gender\n",
        "    opposite_gender_users = similar_users[similar_users['gender'] != current_user_gender]\n",
        "\n",
        "    return opposite_gender_users['user'].values\n",
        "\n",
        "def match_users(user_id, df, preprocess_pipeline, kmeans, cos_sim_matrix):\n",
        "    # Step 1: Preprocess the input user data\n",
        "    user_data_processed = preprocess_user(user_id, df, preprocess_pipeline)\n",
        "\n",
        "    # Step 2: Assign the user to a cluster\n",
        "    cluster_label = assign_cluster(user_data_processed, df_processed, kmeans)\n",
        "\n",
        "    # Step 3: Get the list of similar users from the same cluster\n",
        "    similar_users = find_similar_users(user_id, df_processed, cos_sim_matrix)\n",
        "\n",
        "    return similar_users"
      ],
      "metadata": {
        "id": "HCoTA0UM5mUN"
      },
      "execution_count": null,
      "outputs": []
    },
    {
      "cell_type": "code",
      "source": [
        "user_id = 'user0'\n",
        "similar_users = match_users(user_id, df, preprocess_pipeline, kmeans, cos_sim_matrix)\n",
        "\n",
        "print(f\"Users similar to {user_id}: {similar_users}\")"
      ],
      "metadata": {
        "colab": {
          "base_uri": "https://localhost:8080/"
        },
        "id": "FQdZ89oO7yvq",
        "outputId": "5c7e3c15-5274-417e-b88a-3c13047d26ec"
      },
      "execution_count": null,
      "outputs": [
        {
          "output_type": "stream",
          "name": "stdout",
          "text": [
            "Users similar to user0: ['user69' 'user16' 'user37' 'user205' 'user182' 'user179' 'user22'\n",
            " 'user184' 'user3' 'user11' 'user2' 'user154' 'user6' 'user215' 'user78'\n",
            " 'user212' 'user64']\n"
          ]
        },
        {
          "output_type": "stream",
          "name": "stderr",
          "text": [
            "/usr/local/lib/python3.10/dist-packages/sklearn/base.py:493: UserWarning: X does not have valid feature names, but KMeans was fitted with feature names\n",
            "  warnings.warn(\n"
          ]
        }
      ]
    },
    {
      "cell_type": "code",
      "source": [
        "df.iloc[205].values"
      ],
      "metadata": {
        "colab": {
          "base_uri": "https://localhost:8080/"
        },
        "id": "5tRcROUsAlUA",
        "outputId": "3655b6c3-19c7-4e9c-da94-aa437f843572"
      },
      "execution_count": null,
      "outputs": [
        {
          "output_type": "execute_result",
          "data": {
            "text/plain": [
              "array(['user205', 35, 'in a relationship', 'male', 'yes', 193.0, 'no',\n",
              "       'hinduism', 'hip-hop/rap', '2010s', 'Relaxing and Chill',\n",
              "       'Frequently', 'No, I prefer not to attend concerts'], dtype=object)"
            ]
          },
          "metadata": {},
          "execution_count": 14
        }
      ]
    },
    {
      "cell_type": "code",
      "source": [
        "import joblib\n",
        "\n",
        "# Create a dictionary containing all necessary components\n",
        "model_data = {\n",
        "    'preprocess_pipeline': preprocess_pipeline,\n",
        "    'kmeans': kmeans,\n",
        "    'cos_sim_matrix': cos_sim_matrix,\n",
        "}\n",
        "\n",
        "# Save the dictionary to a file using joblib\n",
        "joblib.dump(model_data, 'recommender_model.pkl')"
      ],
      "metadata": {
        "colab": {
          "base_uri": "https://localhost:8080/"
        },
        "id": "EnplNfkZ_V-r",
        "outputId": "1339587e-27d6-4168-f131-018cc5f0ee02"
      },
      "execution_count": null,
      "outputs": [
        {
          "output_type": "execute_result",
          "data": {
            "text/plain": [
              "['recommender_model.pkl']"
            ]
          },
          "metadata": {},
          "execution_count": 151
        }
      ]
    },
    {
      "cell_type": "markdown",
      "source": [
        "user\n",
        "age\n",
        "status\n",
        "gender\n",
        "drinks\n",
        "height\n",
        "smokes\n",
        "religion\n",
        "genre\n",
        "music_decade\n",
        "music_vibe\n",
        "listening_frequency\n",
        "concert"
      ],
      "metadata": {
        "id": "WqaxlgpTgy5F"
      }
    }
  ]
}